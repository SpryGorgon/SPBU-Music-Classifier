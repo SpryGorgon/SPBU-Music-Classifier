{
 "cells": [
  {
   "cell_type": "markdown",
   "metadata": {
    "papermill": {
     "duration": 0.033613,
     "end_time": "2021-11-17T20:57:20.719004",
     "exception": false,
     "start_time": "2021-11-17T20:57:20.685391",
     "status": "completed"
    },
    "tags": []
   },
   "source": [
    "### Import"
   ]
  },
  {
   "cell_type": "code",
   "execution_count": 1,
   "metadata": {
    "execution": {
     "iopub.execute_input": "2021-11-17T20:57:20.794093Z",
     "iopub.status.busy": "2021-11-17T20:57:20.793421Z",
     "iopub.status.idle": "2021-11-17T20:57:22.753075Z",
     "shell.execute_reply": "2021-11-17T20:57:22.752474Z",
     "shell.execute_reply.started": "2021-11-17T20:53:26.455206Z"
    },
    "jupyter": {
     "source_hidden": true
    },
    "papermill": {
     "duration": 2.002046,
     "end_time": "2021-11-17T20:57:22.753227",
     "exception": false,
     "start_time": "2021-11-17T20:57:20.751181",
     "status": "completed"
    },
    "tags": []
   },
   "outputs": [],
   "source": [
    "from music_classifier_utils import Cutter, Loader, MusicClassifier, MusicFeaturesExtractor, genres\n",
    "from musicnet_utils import features\n",
    "import musicnet_utils"
   ]
  },
  {
   "cell_type": "code",
   "execution_count": 2,
   "metadata": {
    "_cell_guid": "dea412fc-1cd9-4285-9d95-ab2112df300a",
    "_uuid": "3bb24b93-2400-474a-b5c7-bd0631597d1c",
    "execution": {
     "iopub.execute_input": "2021-11-17T20:57:22.828539Z",
     "iopub.status.busy": "2021-11-17T20:57:22.827901Z",
     "iopub.status.idle": "2021-11-17T20:57:24.211360Z",
     "shell.execute_reply": "2021-11-17T20:57:24.210853Z",
     "shell.execute_reply.started": "2021-11-17T20:53:26.462388Z"
    },
    "jupyter": {
     "source_hidden": true
    },
    "papermill": {
     "duration": 1.42429,
     "end_time": "2021-11-17T20:57:24.211489",
     "exception": false,
     "start_time": "2021-11-17T20:57:22.787199",
     "status": "completed"
    },
    "tags": []
   },
   "outputs": [],
   "source": [
    "# This Python 3 environment comes with many helpful analytics libraries installed\n",
    "# It is defined by the kaggle/python Docker image: https://github.com/kaggle/docker-python\n",
    "# For example, here's several helpful packages to load\n",
    "\n",
    "import numpy as np # linear algebra\n",
    "import pandas as pd # data processing, CSV file I/O (e.g. pd.read_csv)\n",
    "\n",
    "# Input data files are available in the read-only \"../input/\" directory\n",
    "# For example, running this (by clicking run or pressing Shift+Enter) will list all files under the input directory\n",
    "\n",
    "import os\n",
    "import IPython\n",
    "import librosa\n",
    "from sklearn.model_selection import train_test_split, cross_val_score\n",
    "from sklearn.ensemble import RandomForestClassifier\n",
    "from sklearn import metrics\n",
    "from matplotlib import pyplot as plt\n",
    "from warnings import filterwarnings, resetwarnings\n",
    "from multiprocessing import Pool\n",
    "import joblib\n",
    "from copy import deepcopy\n",
    "from xgboost import XGBClassifier, XGBRFClassifier\n",
    "from sklearn.decomposition import PCA\n",
    "from sklearn.metrics import accuracy_score, log_loss\n",
    "import seaborn as sns\n",
    "import torch\n",
    "from sklearn.preprocessing import LabelEncoder\n",
    "from sklearn.manifold import TSNE\n",
    "from sklearn.decomposition import TruncatedSVD\n",
    "from sklearn.preprocessing import StandardScaler, RobustScaler, MinMaxScaler\n",
    "from tqdm.notebook import tqdm\n",
    "\n",
    "SEED = int(1e9+7e7+17)\n",
    "\n",
    "def seed_init():\n",
    "    np.random.seed(SEED)\n",
    "    torch.manual_seed(SEED)\n",
    "    torch.cuda.manual_seed(SEED)\n",
    "    torch.backends.cudnn.deterministic = True\n",
    "\n",
    "seed_init()\n",
    "# for dirname, _, filenames in os.walk('/kaggle/input'):\n",
    "#     for filename in filenames:\n",
    "#         print(os.path.join(dirname, filename))\n",
    "\n",
    "# You can write up to 20GB to the current directory (/kaggle/working/) that gets preserved as output when you create a version using \"Save & Run All\" \n",
    "# You can also write temporary files to /kaggle/temp/, but they won't be saved outside of the current session"
   ]
  },
  {
   "cell_type": "code",
   "execution_count": 3,
   "metadata": {
    "_cell_guid": "e6daeb30-3820-4f38-8330-761b3a6d1d02",
    "_uuid": "c4f48dfd-9534-43f8-af07-fd7d8b586b75",
    "execution": {
     "iopub.execute_input": "2021-11-17T20:57:24.281150Z",
     "iopub.status.busy": "2021-11-17T20:57:24.280334Z",
     "iopub.status.idle": "2021-11-17T20:57:24.283192Z",
     "shell.execute_reply": "2021-11-17T20:57:24.282744Z",
     "shell.execute_reply.started": "2021-11-17T20:53:26.476405Z"
    },
    "jupyter": {
     "source_hidden": true
    },
    "papermill": {
     "duration": 0.039381,
     "end_time": "2021-11-17T20:57:24.283304",
     "exception": false,
     "start_time": "2021-11-17T20:57:24.243923",
     "status": "completed"
    },
    "tags": []
   },
   "outputs": [],
   "source": [
    "filterwarnings(\"ignore\", message=\"PySoundFile failed. Trying audioread instead.\")\n",
    "filterwarnings(\"ignore\", category=DeprecationWarning)\n",
    "filterwarnings(\"ignore\", category=np.VisibleDeprecationWarning)\n",
    "filterwarnings(\"ignore\", category=UserWarning)\n",
    "n_jobs=os.cpu_count()\n",
    "# filterwarnings(\"ignore\")"
   ]
  },
  {
   "cell_type": "markdown",
   "metadata": {
    "papermill": {
     "duration": 0.031843,
     "end_time": "2021-11-17T20:57:24.347040",
     "exception": false,
     "start_time": "2021-11-17T20:57:24.315197",
     "status": "completed"
    },
    "tags": []
   },
   "source": [
    "### hist, plot"
   ]
  },
  {
   "cell_type": "code",
   "execution_count": 4,
   "metadata": {
    "execution": {
     "iopub.execute_input": "2021-11-17T20:57:24.417010Z",
     "iopub.status.busy": "2021-11-17T20:57:24.416328Z",
     "iopub.status.idle": "2021-11-17T20:57:24.419319Z",
     "shell.execute_reply": "2021-11-17T20:57:24.418893Z",
     "shell.execute_reply.started": "2021-11-17T20:53:26.489297Z"
    },
    "papermill": {
     "duration": 0.040095,
     "end_time": "2021-11-17T20:57:24.419420",
     "exception": false,
     "start_time": "2021-11-17T20:57:24.379325",
     "status": "completed"
    },
    "tags": []
   },
   "outputs": [],
   "source": [
    "def plot(*args, title='', xlabel='', ylabel='', **kwargs):\n",
    "    plt.figure(figsize=(18,5))\n",
    "    plt.plot(*args, **kwargs)\n",
    "    plt.title(title)\n",
    "    plt.xlabel(xlabel)\n",
    "    plt.ylabel(ylabel)\n",
    "    plt.show()\n",
    "    \n",
    "def hist(*args, **kwargs):\n",
    "    plt.figure(figsize=(18,5))\n",
    "    plt.hist(*args, **kwargs)\n",
    "    plt.show()"
   ]
  },
  {
   "cell_type": "code",
   "execution_count": 5,
   "metadata": {
    "execution": {
     "iopub.execute_input": "2021-11-17T20:57:24.534981Z",
     "iopub.status.busy": "2021-11-17T20:57:24.533905Z",
     "iopub.status.idle": "2021-11-17T20:57:24.537808Z",
     "shell.execute_reply": "2021-11-17T20:57:24.538301Z",
     "shell.execute_reply.started": "2021-11-17T20:53:26.502676Z"
    },
    "jupyter": {
     "source_hidden": true
    },
    "papermill": {
     "duration": 0.087333,
     "end_time": "2021-11-17T20:57:24.538446",
     "exception": false,
     "start_time": "2021-11-17T20:57:24.451113",
     "status": "completed"
    },
    "tags": []
   },
   "outputs": [
    {
     "name": "stdout",
     "output_type": "stream",
     "text": [
      "Device: Tesla P100-PCIE-16GB\n"
     ]
    }
   ],
   "source": [
    "device = torch.device('cuda:0' if torch.cuda.is_available() else 'cpu')\n",
    "print(\"Device:\",torch.cuda.get_device_name(device.index) if device.type==\"cuda\" else device.type)"
   ]
  },
  {
   "cell_type": "markdown",
   "metadata": {
    "papermill": {
     "duration": 0.032659,
     "end_time": "2021-11-17T20:57:24.603797",
     "exception": false,
     "start_time": "2021-11-17T20:57:24.571138",
     "status": "completed"
    },
    "tags": []
   },
   "source": [
    "### global parameters"
   ]
  },
  {
   "cell_type": "code",
   "execution_count": 6,
   "metadata": {
    "execution": {
     "iopub.execute_input": "2021-11-17T20:57:24.673904Z",
     "iopub.status.busy": "2021-11-17T20:57:24.673083Z",
     "iopub.status.idle": "2021-11-17T20:57:24.676185Z",
     "shell.execute_reply": "2021-11-17T20:57:24.675729Z",
     "shell.execute_reply.started": "2021-11-17T20:53:26.514046Z"
    },
    "jupyter": {
     "source_hidden": true
    },
    "papermill": {
     "duration": 0.040054,
     "end_time": "2021-11-17T20:57:24.676311",
     "exception": false,
     "start_time": "2021-11-17T20:57:24.636257",
     "status": "completed"
    },
    "tags": []
   },
   "outputs": [],
   "source": [
    "n_input = 57\n",
    "n_output = 10"
   ]
  },
  {
   "cell_type": "markdown",
   "metadata": {
    "papermill": {
     "duration": 0.038229,
     "end_time": "2021-11-17T20:57:24.748678",
     "exception": false,
     "start_time": "2021-11-17T20:57:24.710449",
     "status": "completed"
    },
    "tags": []
   },
   "source": [
    "### Activator, Kernel"
   ]
  },
  {
   "cell_type": "code",
   "execution_count": 7,
   "metadata": {
    "execution": {
     "iopub.execute_input": "2021-11-17T20:57:24.831528Z",
     "iopub.status.busy": "2021-11-17T20:57:24.829872Z",
     "iopub.status.idle": "2021-11-17T20:57:24.832286Z",
     "shell.execute_reply": "2021-11-17T20:57:24.832706Z",
     "shell.execute_reply.started": "2021-11-17T20:53:26.522001Z"
    },
    "jupyter": {
     "source_hidden": true
    },
    "papermill": {
     "duration": 0.047609,
     "end_time": "2021-11-17T20:57:24.832823",
     "exception": false,
     "start_time": "2021-11-17T20:57:24.785214",
     "status": "completed"
    },
    "tags": []
   },
   "outputs": [],
   "source": [
    "class Activator(torch.nn.Module):\n",
    "    def __init__(self):\n",
    "        super().__init__()\n",
    "        \n",
    "    def forward(self, x):\n",
    "        return torch.pow(torch.add(x,1),3)\n",
    "    \n",
    "class Kernel(torch.nn.Module):\n",
    "    def __init__(self, n_input:int, n_output:int, gamma:float=1):\n",
    "        super().__init__()\n",
    "        self.n_input, self.n_output = n_input, n_output\n",
    "        tmp=torch.nn.Linear(self.n_input, self.n_output)\n",
    "        self.weight = torch.nn.Parameter(data=tmp.weight)\n",
    "        self.bias = torch.nn.Parameter(data=tmp.bias)\n",
    "#         self.weight = torch.nn.Parameter(data=torch.randn((self.n_output, self.n_input), dtype=torch.float, device=device))\n",
    "#         self.bias = torch.nn.Parameter(data=torch.randn((self.n_output), dtype=torch.float, device=device))\n",
    "#         self.gamma = torch.nn.Parameter(data=torch.tensor([1], dtype=torch.float))\n",
    "        self.gamma=gamma\n",
    "        \n",
    "    def forward(self, input: torch.Tensor) -> torch.Tensor:\n",
    "#         x = torch.nn.functional.linear(input, self.weight, self.bias)\n",
    "#         return x\n",
    "#         return torch.pow(torch.add(x,1),3)\n",
    "        n,m,k = input.shape[0], self.n_input, self.n_output\n",
    "        ones = torch.ones((n, k, m), dtype=torch.float, device=device)\n",
    "        distances = torch.sum(\n",
    "            torch.pow(\n",
    "                (torch.matmul\n",
    "                (ones, torch.diag_embed(input))\n",
    "                 - self.weight.expand(n,k,m)),\n",
    "                  2),\n",
    "                   dim=2)\n",
    "        return torch.exp(-self.gamma*distances)-self.bias"
   ]
  },
  {
   "cell_type": "markdown",
   "metadata": {
    "papermill": {
     "duration": 0.03331,
     "end_time": "2021-11-17T20:57:24.899360",
     "exception": false,
     "start_time": "2021-11-17T20:57:24.866050",
     "status": "completed"
    },
    "tags": []
   },
   "source": [
    "### ClassifierNet"
   ]
  },
  {
   "cell_type": "code",
   "execution_count": 8,
   "metadata": {
    "execution": {
     "iopub.execute_input": "2021-11-17T20:57:24.985535Z",
     "iopub.status.busy": "2021-11-17T20:57:24.975635Z",
     "iopub.status.idle": "2021-11-17T20:57:25.001622Z",
     "shell.execute_reply": "2021-11-17T20:57:25.001230Z",
     "shell.execute_reply.started": "2021-11-17T20:53:26.552378Z"
    },
    "papermill": {
     "duration": 0.068382,
     "end_time": "2021-11-17T20:57:25.001726",
     "exception": false,
     "start_time": "2021-11-17T20:57:24.933344",
     "status": "completed"
    },
    "tags": []
   },
   "outputs": [],
   "source": [
    "class ClassifierNet(torch.nn.Module):\n",
    "    def __init__(self, n_input:int=n_input, n_output:int=n_output, n_hidden=[256,128,64], dropout=0.1, act='elu')->None:\n",
    "        super(ClassifierNet, self).__init__()\n",
    "        self.encoder = LabelEncoder()\n",
    "        self.encoder.fit(genres)\n",
    "        \n",
    "        params = {'n_input':n_input, 'n_output':n_output, 'n_hidden':n_hidden, 'dropout':dropout, 'act':act}\n",
    "        self.model = self.sequential(**params)\n",
    "        params['n_output'] = 1\n",
    "        self.models = torch.nn.ModuleList([self.sequential(**params) for i in range(10)])\n",
    "        \n",
    "    def sequential(self, n_input:int=n_input, n_output:int=n_output, n_hidden=[256,128,64], dropout=0.0, act='elu'):\n",
    "\n",
    "        act = torch.nn.ELU if act == 'elu' else torch.nn.ReLU\n",
    "\n",
    "        seq = torch.nn.Sequential(        \n",
    "            torch.nn.Linear(n_input, n_hidden[0]),\n",
    "#             Kernel(n_input, n_hidden[0]),\n",
    "            torch.nn.BatchNorm1d(n_hidden[0]),\n",
    "            torch.nn.Dropout(p=dropout),\n",
    "            act(),\n",
    "\n",
    "            torch.nn.Linear(n_hidden[0], n_hidden[1]),\n",
    "#             Kernel(n_hidden[0], n_hidden[1]),\n",
    "            torch.nn.BatchNorm1d(n_hidden[1]),\n",
    "            torch.nn.Dropout(p=dropout),\n",
    "            act(),\n",
    "\n",
    "            torch.nn.Linear(n_hidden[1], n_hidden[2]),\n",
    "#             Kernel(n_hidden[1], n_hidden[2]),\n",
    "            torch.nn.BatchNorm1d(n_hidden[2]),\n",
    "            torch.nn.Dropout(p=dropout),\n",
    "            act(),\n",
    "\n",
    "            torch.nn.Linear(n_hidden[2], n_output),\n",
    "#             Kernel(n_hidden[2], n_output),\n",
    "#             torch.nn.BatchNorm1d(n_output),\n",
    "#             act(),\n",
    "        )\n",
    "        return seq\n",
    "    \n",
    "    def get_weights(self, weights, n_input, lb, ub):\n",
    "        return torch.nn.parameter.Parameter((weights/np.sqrt(1/n_input)+1)/2*(ub-lb)+lb, requires_grad=True)\n",
    "        \n",
    "    def forward(self, x, x_frequencies=None):\n",
    "        if len(x.shape)==1:\n",
    "            x = x.reshape(1,-1)\n",
    "        x = self.model(x)\n",
    "#         x = torch.cat([self.models[i](x) for i in range(10)], dim=1)\n",
    "        \n",
    "        return x\n",
    "    \n",
    "    def predict_proba(self, x):\n",
    "        if isinstance(x, pd.DataFrame):\n",
    "            x = torch.tensor(x.values, dtype=torch.float, device=device)\n",
    "        if isinstance(x, np.ndarray):\n",
    "            x = torch.tensor(x, dtype=torch.float, device=device)\n",
    "            \n",
    "        sm = torch.nn.Softmax()\n",
    "        if not self.training:\n",
    "            x = torch.utils.data.TensorDataset(x)\n",
    "            generator = torch.utils.data.DataLoader(x, batch_size=100, shuffle=False, drop_last=False)\n",
    "            x = torch.cat([self.forward(X_batch).data for (X_batch,) in generator], dim=0)\n",
    "            return sm(x)\n",
    "        return sm(self.forward(x))\n",
    "    \n",
    "    def predict_index(self, x):\n",
    "        return torch.tensor(self.predict_proba(x).argmax(axis=1), device=device)\n",
    "    \n",
    "    def predict(self, x):\n",
    "        return self.encoder.inverse_transform(self.predict_index(x).cpu())\n",
    "    \n",
    "    def fit(self, X_train, y_train, X_test, y_test, train_minutes=1, verbose=1, verbose_interval=200, opt_params=None,\n",
    "           sched_params=None, epochs=100, batch_size=None):\n",
    "        device = torch.device('cuda:0' if torch.cuda.is_available() else 'cpu')\n",
    "        train_loss_history = []\n",
    "        test_loss_history = []\n",
    "        test_acc_history = []\n",
    "        self.best_loss = None\n",
    "        self.best_params = None\n",
    "        \n",
    "        y_train = self.encoder.transform(y_train)\n",
    "        y_test = self.encoder.transform(y_test)\n",
    "\n",
    "        order_train = [i for i in range(X_train.shape[0])]\n",
    "        order_test = [i for i in range(X_test.shape[0])]\n",
    "\n",
    "        if batch_size is None:\n",
    "            batch_size = X_train.shape[0]//40\n",
    "#             batch_size = 128\n",
    "\n",
    "        self.to(device)\n",
    "        loss = torch.nn.CrossEntropyLoss()\n",
    "        X_train = X_train.to(device)\n",
    "        y_train = torch.tensor(y_train).to(device)\n",
    "        X_test = X_test.to(device)\n",
    "        y_test = torch.tensor(y_test).to(device)\n",
    "        train_data = torch.utils.data.TensorDataset(X_train, y_train)\n",
    "        test_data = torch.utils.data.TensorDataset(X_test, y_test)\n",
    "\n",
    "    #     train_speed = 17/200*60 #epochs per minute\n",
    "        train_speed = 2104/26.8*60\n",
    "#         epochs = int(train_minutes*train_speed)\n",
    "        \n",
    "        if opt_params is None:\n",
    "            opt_params = dict(lr=0.1, betas=(0.9, 0.999), eps=1e-08, weight_decay=0, amsgrad=False)\n",
    "        if sched_params is None:\n",
    "            sched_params = dict(milestones=[20,70], gamma=0.1)\n",
    "        optimizer = torch.optim.Adam(self.parameters(), **opt_params)\n",
    "        scheduler = torch.optim.lr_scheduler.MultiStepLR(optimizer, **sched_params)\n",
    "        \n",
    "        for epoch in tqdm(range(epochs)):\n",
    "            generator = torch.utils.data.DataLoader(train_data, batch_size=batch_size, shuffle=True, drop_last=True)\n",
    "            self.train()\n",
    "            torch.cuda.empty_cache()\n",
    "            for X_batch, y_batch in generator:\n",
    "                optimizer.zero_grad()\n",
    "\n",
    "                preds = net.forward(X_batch)\n",
    "                loss_value = loss(preds, y_batch)\n",
    "                train_loss_history.append(loss_value.data.cpu())\n",
    "                loss_value.backward()\n",
    "\n",
    "                optimizer.step()\n",
    "                scheduler.step()\n",
    "\n",
    "            self.eval()\n",
    "            generator = torch.utils.data.DataLoader(test_data, batch_size=min(X_test.shape[0],batch_size), \n",
    "                                                    shuffle=True, drop_last=True)\n",
    "            test_results = []\n",
    "            test_results_acc = []\n",
    "            for X_batch, y_batch in generator:\n",
    "\n",
    "                with torch.no_grad():\n",
    "                    test_preds = self.forward(X_batch)\n",
    "                test_results.append(loss(test_preds, y_batch).data.cpu())\n",
    "                test_results_acc.append(accuracy_score(y_batch.cpu(), test_preds.argmax(axis=1).cpu()))\n",
    "\n",
    "            test_loss_history.append(sum(test_results)/len(test_results))\n",
    "            test_acc_history.append(sum(test_results_acc)/len(test_results_acc))\n",
    "            \n",
    "            if(verbose==1 and (epoch+1)%verbose_interval==0):\n",
    "                print(train_loss_history[-1].item(), test_loss_history[-1].item())\n",
    "                \n",
    "            if(self.best_loss is None or test_loss_history[-1] < self.best_loss):\n",
    "                self.best_loss = test_loss_history[-1]\n",
    "                self.best_params = {'net_state_dict': self.state_dict(),\n",
    "                                    'optimizer_state_dict': optimizer.state_dict(),\n",
    "                                    'scheduler_state_dict': scheduler.state_dict(),\n",
    "                                    'loss': self.best_loss}\n",
    "\n",
    "\n",
    "        return (train_loss_history, test_loss_history, test_acc_history)"
   ]
  },
  {
   "cell_type": "markdown",
   "metadata": {
    "papermill": {
     "duration": 0.032176,
     "end_time": "2021-11-17T20:57:25.066643",
     "exception": false,
     "start_time": "2021-11-17T20:57:25.034467",
     "status": "completed"
    },
    "tags": []
   },
   "source": [
    "### Features generation"
   ]
  },
  {
   "cell_type": "code",
   "execution_count": 9,
   "metadata": {
    "execution": {
     "iopub.execute_input": "2021-11-17T20:57:25.135038Z",
     "iopub.status.busy": "2021-11-17T20:57:25.134477Z",
     "iopub.status.idle": "2021-11-17T20:57:25.138340Z",
     "shell.execute_reply": "2021-11-17T20:57:25.137900Z",
     "shell.execute_reply.started": "2021-11-17T20:53:26.589444Z"
    },
    "jupyter": {
     "source_hidden": true
    },
    "papermill": {
     "duration": 0.038812,
     "end_time": "2021-11-17T20:57:25.138441",
     "exception": false,
     "start_time": "2021-11-17T20:57:25.099629",
     "status": "completed"
    },
    "tags": []
   },
   "outputs": [],
   "source": [
    "# %%time\n",
    "# extractor = MusicFeaturesExtractor()\n",
    "# cutter = Cutter()\n",
    "# loader = Loader()\n",
    "\n",
    "# dataset = loader.load_tracks('../input/gtzan-dataset-music-genre-classification/Data/genres_original')\n",
    "# dataset, labels = cutter.cut_dataset(dataset, [5,10,15], n_jobs=n_jobs, default_labels=musicnet_utils.default_labels)\n",
    "# print(dataset.shape, len(labels))\n",
    "\n",
    "# X = extractor.extract(dataset)\n",
    "# Y = np.array(labels.copy())\n",
    "\n",
    "# output_features = pd.concat([X,pd.DataFrame(Y)], axis=1)\n",
    "# output_features.columns = features + [\"label\"]\n",
    "# output_features.to_csv('./features_5_10_15.csv', index=False)"
   ]
  },
  {
   "cell_type": "code",
   "execution_count": 10,
   "metadata": {
    "execution": {
     "iopub.execute_input": "2021-11-17T20:57:25.207155Z",
     "iopub.status.busy": "2021-11-17T20:57:25.206584Z",
     "iopub.status.idle": "2021-11-17T20:57:26.589224Z",
     "shell.execute_reply": "2021-11-17T20:57:26.588620Z",
     "shell.execute_reply.started": "2021-11-17T20:53:26.601419Z"
    },
    "jupyter": {
     "source_hidden": true
    },
    "papermill": {
     "duration": 1.417783,
     "end_time": "2021-11-17T20:57:26.589346",
     "exception": false,
     "start_time": "2021-11-17T20:57:25.171563",
     "status": "completed"
    },
    "tags": []
   },
   "outputs": [],
   "source": [
    "rfc = joblib.load('../input/musicclassifier/MusicClassifier.rfc')"
   ]
  },
  {
   "cell_type": "code",
   "execution_count": 11,
   "metadata": {
    "execution": {
     "iopub.execute_input": "2021-11-17T20:57:26.658425Z",
     "iopub.status.busy": "2021-11-17T20:57:26.657901Z",
     "iopub.status.idle": "2021-11-17T20:57:29.142787Z",
     "shell.execute_reply": "2021-11-17T20:57:29.143400Z",
     "shell.execute_reply.started": "2021-11-17T20:53:27.136197Z"
    },
    "jupyter": {
     "source_hidden": true
    },
    "papermill": {
     "duration": 2.52125,
     "end_time": "2021-11-17T20:57:29.143556",
     "exception": false,
     "start_time": "2021-11-17T20:57:26.622306",
     "status": "completed"
    },
    "tags": []
   },
   "outputs": [
    {
     "data": {
      "text/plain": [
       "['./MusicClassifier.spgn']"
      ]
     },
     "execution_count": 11,
     "metadata": {},
     "output_type": "execute_result"
    }
   ],
   "source": [
    "package = MusicClassifier()\n",
    "MusicClassifier.__module__=\"music_classifier_utils\"\n",
    "joblib.dump(package, './MusicClassifier.spgn', compress=True)"
   ]
  },
  {
   "cell_type": "code",
   "execution_count": 12,
   "metadata": {
    "_cell_guid": "4589196f-c8cd-46f0-bf13-e0220a9f023b",
    "_uuid": "1bca501c-56ae-4446-8a8b-5346153f32f3",
    "execution": {
     "iopub.execute_input": "2021-11-17T20:57:29.217632Z",
     "iopub.status.busy": "2021-11-17T20:57:29.216528Z",
     "iopub.status.idle": "2021-11-17T20:57:29.353855Z",
     "shell.execute_reply": "2021-11-17T20:57:29.354435Z",
     "shell.execute_reply.started": "2021-11-17T20:53:29.272415Z"
    },
    "jupyter": {
     "source_hidden": true
    },
    "papermill": {
     "duration": 0.17817,
     "end_time": "2021-11-17T20:57:29.354633",
     "exception": false,
     "start_time": "2021-11-17T20:57:29.176463",
     "status": "completed"
    },
    "tags": []
   },
   "outputs": [
    {
     "name": "stdout",
     "output_type": "stream",
     "text": [
      "CPU times: user 72.4 ms, sys: 64.3 ms, total: 137 ms\n",
      "Wall time: 136 ms\n"
     ]
    }
   ],
   "source": [
    "%%time\n",
    "extractor = MusicFeaturesExtractor()\n",
    "cutter = Cutter()\n",
    "loader = Loader()\n",
    "\n",
    "net = package(os.cpu_count())\n",
    "# net.predict_proba_display(X_path = \"../input/musicpack2\")"
   ]
  },
  {
   "cell_type": "markdown",
   "metadata": {
    "papermill": {
     "duration": 0.032747,
     "end_time": "2021-11-17T20:57:29.421682",
     "exception": false,
     "start_time": "2021-11-17T20:57:29.388935",
     "status": "completed"
    },
    "tags": []
   },
   "source": [
    "### X_train_, y_train_, X_test_, y_test_"
   ]
  },
  {
   "cell_type": "code",
   "execution_count": 13,
   "metadata": {
    "execution": {
     "iopub.execute_input": "2021-11-17T20:57:29.491335Z",
     "iopub.status.busy": "2021-11-17T20:57:29.490803Z",
     "iopub.status.idle": "2021-11-17T20:57:30.491366Z",
     "shell.execute_reply": "2021-11-17T20:57:30.492369Z",
     "shell.execute_reply.started": "2021-11-17T20:53:29.358318Z"
    },
    "jupyter": {
     "source_hidden": true
    },
    "papermill": {
     "duration": 1.038205,
     "end_time": "2021-11-17T20:57:30.492562",
     "exception": false,
     "start_time": "2021-11-17T20:57:29.454357",
     "status": "completed"
    },
    "tags": []
   },
   "outputs": [
    {
     "name": "stdout",
     "output_type": "stream",
     "text": [
      "CPU times: user 297 ms, sys: 18.9 ms, total: 315 ms\n",
      "Wall time: 996 ms\n"
     ]
    }
   ],
   "source": [
    "%%time\n",
    "# extractor = MusicFeaturesExtractor()\n",
    "# cutter = Cutter()\n",
    "# loader = Loader()\n",
    "\n",
    "# data = loader.load_tracks('../input/gtzan-dataset-music-genre-classification/Data/genres_original')\n",
    "# default_labels = musicnet_utils.default_labels\n",
    "# data, labels = cutter.cut_dataset(data, [-1], n_jobs=n_jobs, default_labels=default_labels)\n",
    "# print(data.shape, len(labels))\n",
    "    \n",
    "# X_train, X_test, y_train, y_test = train_test_split(data, labels, test_size=0.33, random_state=SEED, shuffle=True)\n",
    "\n",
    "# X_train, y_train = cutter.cut_dataset(X_train, [-1, -1/2, -1/4, -1/8, -1/10, -1/15], default_labels=y_train)\n",
    "# X_train = extractor.extract_batch(X_train)\n",
    "# X_test, y_test = cutter.cut_dataset(X_test, [-1, -1/2, -1/4, -1/8, -1/10, -1/15], default_labels=y_test)\n",
    "# X_test = extractor.extract_batch(X_test)\n",
    "\n",
    "# print(X_train.shape, len(y_train), X_test.shape, len(y_test))\n",
    "# joblib.dump((X_train, y_train, X_test, y_test), './gtzan_train_test', compress=True)\n",
    "\n",
    "X_train_, y_train_, X_test_, y_test_ =  joblib.load('../input/gtzan-features/gtzan_train_test')"
   ]
  },
  {
   "cell_type": "markdown",
   "metadata": {
    "papermill": {
     "duration": 0.032674,
     "end_time": "2021-11-17T20:57:30.559145",
     "exception": false,
     "start_time": "2021-11-17T20:57:30.526471",
     "status": "completed"
    },
    "tags": []
   },
   "source": [
    "### X_valid_, y_valid_, names_valid_"
   ]
  },
  {
   "cell_type": "code",
   "execution_count": 14,
   "metadata": {
    "execution": {
     "iopub.execute_input": "2021-11-17T20:57:30.630247Z",
     "iopub.status.busy": "2021-11-17T20:57:30.629722Z",
     "iopub.status.idle": "2021-11-17T20:57:30.678393Z",
     "shell.execute_reply": "2021-11-17T20:57:30.677642Z",
     "shell.execute_reply.started": "2021-11-17T20:53:29.668072Z"
    },
    "jupyter": {
     "source_hidden": true
    },
    "papermill": {
     "duration": 0.086534,
     "end_time": "2021-11-17T20:57:30.678511",
     "exception": false,
     "start_time": "2021-11-17T20:57:30.591977",
     "status": "completed"
    },
    "tags": []
   },
   "outputs": [],
   "source": [
    "# %%time\n",
    "# # extractor = MusicFeaturesExtractor()\n",
    "# # cutter = Cutter()\n",
    "# # loader = Loader()\n",
    "# # data, names = loader.load_tracks('../input/musicpack4', get_names=True, verbose=0)\n",
    "# # default_labels = ['blues']*10+['classical']*10+['country']*10+['disco']*10+['hiphop']*10+['jazz']*10+['metal']*10+['pop']*10+['reggae']*10+['rock']*10\n",
    "# # print('loaded')\n",
    "# # default_labels = [(default_labels[i], names[i]) for i in range(len(names))]\n",
    "# # data, _labels = cutter.cut_dataset(data, [-1, -1/2, -1/4, -1/8], n_jobs=n_jobs, default_labels=default_labels)\n",
    "# # labels, names = [],[]\n",
    "# # for el in _labels:\n",
    "# #     labels.append(el[0])\n",
    "# #     names.append(el[1])\n",
    "# # print(data.shape, len(labels))\n",
    "\n",
    "# # X = extractor.extract_batch(data, batch_size=data.shape[0]//100)\n",
    "# # y = labels.copy()\n",
    "    \n",
    "# # X_valid = X[::2].reset_index(drop=True); y_valid=pd.DataFrame(Y[::2]); names_valid=pd.DataFrame(names[::2])\n",
    "# # X_test=X[1::2].reset_index(drop=True); y_test=pd.DataFrame(Y[1::2]); names_test=pd.DataFrame(names[1::2])  \n",
    "# # # del X,y,names\n",
    "# # print(X_valid.shape, y_valid.shape)\n",
    "\n",
    "# # output_features = pd.concat([pd.DataFrame(names_valid), X_valid, pd.DataFrame(y_valid)], axis=1)\n",
    "# # output_features.columns = [\"name\"] + features + [\"label\"]\n",
    "# # output_features.to_csv('./musicpack4_names_features_valid.csv', index=False)\n",
    "# # output_features = pd.concat([pd.DataFrame(names_test), X_test, pd.DataFrame(y_test)], axis=1)\n",
    "# # output_features.columns = [\"name\"] + features + [\"label\"]\n",
    "# # output_features.to_csv('./musicpack4_names_features_test.csv', index=False)\n",
    "\n",
    "dataset = pd.read_csv('../input/gtzan-features/musicpack4_names_features_valid.csv')\n",
    "dataset = dataset.sample(frac=1, random_state=SEED).reset_index(drop=True)\n",
    "X_valid_ = dataset.drop(columns=['name', 'label'])\n",
    "y_valid_ = dataset.loc[:,'label']\n",
    "names_valid_ = dataset.loc[:,'name']\n",
    "\n",
    "# dataset = pd.read_csv('../input/gtzan-features/musicpack4_names_features_test.csv')\n",
    "# dataset = dataset.sample(frac=1, random_state=SEED).reset_index(drop=True)\n",
    "# X_test = dataset.drop(columns=['name', 'label'])\n",
    "# y_test = dataset.loc[:,'label']\n",
    "# names_test = dataset.loc[:,'name']"
   ]
  },
  {
   "cell_type": "markdown",
   "metadata": {
    "papermill": {
     "duration": 0.033338,
     "end_time": "2021-11-17T20:57:30.745392",
     "exception": false,
     "start_time": "2021-11-17T20:57:30.712054",
     "status": "completed"
    },
    "tags": []
   },
   "source": [
    "### Scaling"
   ]
  },
  {
   "cell_type": "code",
   "execution_count": 15,
   "metadata": {
    "execution": {
     "iopub.execute_input": "2021-11-17T20:57:30.819506Z",
     "iopub.status.busy": "2021-11-17T20:57:30.818786Z",
     "iopub.status.idle": "2021-11-17T20:57:30.898588Z",
     "shell.execute_reply": "2021-11-17T20:57:30.898126Z",
     "shell.execute_reply.started": "2021-11-17T20:53:29.695162Z"
    },
    "jupyter": {
     "source_hidden": true
    },
    "papermill": {
     "duration": 0.12008,
     "end_time": "2021-11-17T20:57:30.898719",
     "exception": false,
     "start_time": "2021-11-17T20:57:30.778639",
     "status": "completed"
    },
    "tags": []
   },
   "outputs": [],
   "source": [
    "# from sklearn.feature_selection import RFECV\n",
    "# xgbc = XGBClassifier(n_estimators=50, random_state=SEED, max_depth=5, learning_rate=0.3, n_jobs=n_jobs, \n",
    "#                        subsample=0.7, reg_alpha=0, reg_lambda=0, booster='gbtree', predictor='auto',\n",
    "#                        tree_method='gpu_hist', eval_metric='mlogloss')\n",
    "# selector = RFECV(xgbc, step=1, cv=5)\n",
    "# selector.fit(X_train_, y_train_)\n",
    "# selector.support_\n",
    "# useful_features = [True,  True,  True,  True,  True,  True,  True,  True,  True,\n",
    "#         True,  True,  True,  True,  True, False,  True,  True,  True,\n",
    "#         True,  True, False,  True,  True,  True,  True,  True,  True,\n",
    "#         True,  True,  True,  True,  True,  True,  True,  True,  True,\n",
    "#         True,  True, False,  True, False,  True,  True,  True, False,\n",
    "#         True, False,  True, False,  True, False,  True, False,  True,\n",
    "#         True,  True,  True]\n",
    "# features = list(np.array(musicnet_utils.features)[useful_features])\n",
    "# X_train_, X_test_, X_valid_ = X_train_[features],  X_test_[features], X_valid_[features]\n",
    "scaler = RobustScaler()\n",
    "scaler.fit(X_train_)\n",
    "# scaler.fit(np.concatenate((X_train_, X_test_), axis=0))\n",
    "X_train_ = scaler.transform(X_train_)\n",
    "X_test_, X_valid_ = scaler.transform(X_test_), scaler.transform(X_valid_)"
   ]
  },
  {
   "cell_type": "markdown",
   "metadata": {
    "papermill": {
     "duration": 0.033298,
     "end_time": "2021-11-17T20:57:30.965450",
     "exception": false,
     "start_time": "2021-11-17T20:57:30.932152",
     "status": "completed"
    },
    "tags": []
   },
   "source": [
    "### Net parameters selection"
   ]
  },
  {
   "cell_type": "code",
   "execution_count": 16,
   "metadata": {
    "execution": {
     "iopub.execute_input": "2021-11-17T20:57:31.036358Z",
     "iopub.status.busy": "2021-11-17T20:57:31.035755Z",
     "iopub.status.idle": "2021-11-17T20:57:31.039420Z",
     "shell.execute_reply": "2021-11-17T20:57:31.039874Z",
     "shell.execute_reply.started": "2021-11-17T20:53:29.777437Z"
    },
    "jupyter": {
     "source_hidden": true
    },
    "papermill": {
     "duration": 0.041271,
     "end_time": "2021-11-17T20:57:31.040009",
     "exception": false,
     "start_time": "2021-11-17T20:57:30.998738",
     "status": "completed"
    },
    "tags": []
   },
   "outputs": [],
   "source": [
    "# %%time\n",
    "# scores_ = []\n",
    "# accuracies_ = []\n",
    "# nums = [i for i in range(2,48,7)]\n",
    "# for num in nums:\n",
    "#     svd = TruncatedSVD(n_components=num, n_iter=5, random_state=SEED)\n",
    "#     svd.fit(X_train_.to_numpy())\n",
    "#     X_train = torch.tensor(svd.transform(X_train_), dtype=torch.float, device=device)\n",
    "#     y_train = y_train_\n",
    "#     X_test = torch.tensor(svd.transform(X_test_), dtype=torch.float, device=device)\n",
    "#     y_test = y_test_\n",
    "#     X_valid = torch.tensor(svd.transform(X_valid_), dtype=torch.float, device=device)\n",
    "#     y_valid = y_valid_\n",
    "#     print(\"SVD completed for \" + str(num) + \" components\")\n",
    "    \n",
    "    \n",
    "    \n",
    "#     net = ClassifierNet(n_hidden=[2048, 512, 256], n_input=num)\n",
    "#     adam_params = dict(lr=1e-2, betas=(0.9, 0.999), eps=1e-08, weight_decay=0, amsgrad=False)\n",
    "\n",
    "#     train_loss, test_loss, test_acc = net.fit(X_train, y_train, X_test, y_test, train_minutes=0.5, verbose=0,\n",
    "#                                               verbose_interval=300, opt_params = adam_params)\n",
    "#     adam_params = dict(lr=1e-3, betas=(0.9, 0.999), eps=1e-08, weight_decay=0, amsgrad=False)\n",
    "#     tmp1, tmp2, tmp3 = net.fit(X_train, y_train, X_test, y_test, train_minutes=0.3, verbose=0,\n",
    "#                                verbose_interval=300, opt_params = adam_params)\n",
    "#     train_loss += tmp1; test_loss += tmp2; test_acc += tmp3;\n",
    "#     adam_params = dict(lr=1e-4, betas=(0.9, 0.999), eps=1e-08, weight_decay=0, amsgrad=False)\n",
    "#     tmp1, tmp2, tmp3 = net.fit(X_train, y_train, X_test, y_test, train_minutes=0.3, verbose=0,\n",
    "#                                verbose_interval=300, opt_params = adam_params)\n",
    "#     train_loss += tmp1; test_loss += tmp2; test_acc += tmp3;\n",
    "#     # adam_params = dict(lr=1e-4, betas=(0.9, 0.999), eps=1e-08, weight_decay=0, amsgrad=False)\n",
    "#     # tmp1, tmp2, tmp3 = net.fit(X_train, y_train, X_test, y_test, train_minutes=0.5, verbose=1,\n",
    "#     #                      verbose_interval=300, opt_params = adam_params)\n",
    "#     # train_loss += tmp1; test_loss += tmp2; test_acc += tmp3;\n",
    "#     scores_.append(accuracy_score(y_test, net.predict(X_test.to(device))))\n",
    "#     print(\"Accuracy: {0}\".format(scores_[-1]))\n",
    "#     plot(train_loss)\n",
    "#     plot(test_loss)\n",
    "#     plot(test_acc)\n",
    "\n",
    "#     results = net.predict(X_valid)\n",
    "#     accuracies_.append(accuracy_score(y_valid, results))\n",
    "#     print(accuracies_[-1])\n",
    "#     scores = pd.DataFrame(data=np.zeros((10,10)), index=genres, columns=genres)\n",
    "#     for valid,res in zip(y_valid, results):\n",
    "#     #     print(valid,res)\n",
    "#         scores[valid][res] += 1\n",
    "#     sns.heatmap(scores)\n",
    "#     plt.show()\n",
    "    \n",
    "    \n",
    "    \n",
    "# plot(nums, scores_)\n",
    "# plot(nums,accuracies_)"
   ]
  },
  {
   "cell_type": "markdown",
   "metadata": {
    "papermill": {
     "duration": 0.032976,
     "end_time": "2021-11-17T20:57:31.106328",
     "exception": false,
     "start_time": "2021-11-17T20:57:31.073352",
     "status": "completed"
    },
    "tags": []
   },
   "source": [
    "### Load & Scale X_train__, X_test__, X_valid, names_valid__"
   ]
  },
  {
   "cell_type": "code",
   "execution_count": 17,
   "metadata": {
    "execution": {
     "iopub.execute_input": "2021-11-17T20:57:31.178899Z",
     "iopub.status.busy": "2021-11-17T20:57:31.178366Z",
     "iopub.status.idle": "2021-11-17T20:57:31.583046Z",
     "shell.execute_reply": "2021-11-17T20:57:31.582550Z",
     "shell.execute_reply.started": "2021-11-17T20:53:29.784630Z"
    },
    "jupyter": {
     "source_hidden": true
    },
    "papermill": {
     "duration": 0.44398,
     "end_time": "2021-11-17T20:57:31.583183",
     "exception": false,
     "start_time": "2021-11-17T20:57:31.139203",
     "status": "completed"
    },
    "tags": []
   },
   "outputs": [],
   "source": [
    "df1 = pd.read_csv('../input/gtzan-dataset-music-genre-classification/Data/features_3_sec.csv')\n",
    "df1 = df1.drop(labels='filename',axis=1)\n",
    "y = df1.iloc[:, -1]\n",
    "dataset = pd.read_csv('../input/gtzan-features/musicpack4_names_features_valid.csv').sample(frac=1, random_state=SEED).reset_index(drop=True)\n",
    "X_valid__ = dataset.drop(columns=['name', 'label'])\n",
    "y_valid__ = dataset.loc[:,'label']\n",
    "names_valid__ = dataset.loc[:,'name']\n",
    "X_train__, X_test__, y_train__, y_test__ = train_test_split(np.array(df1.iloc[:, 1:-1], dtype = float), y, test_size=0.33)\n",
    "scaler2 = RobustScaler()\n",
    "scaler2.fit(X_train__)\n",
    "# scaler2.fit(np.concatenate((X_train__, X_test__), axis=0))\n",
    "X_train__ = scaler2.transform(X_train__)\n",
    "X_test__, X_valid__ = scaler2.transform(X_test__), scaler2.transform(X_valid__)\n",
    "y_train__, y_test__ = list(y_train__), list(y_test__)"
   ]
  },
  {
   "cell_type": "markdown",
   "metadata": {
    "papermill": {
     "duration": 0.03289,
     "end_time": "2021-11-17T20:57:31.649437",
     "exception": false,
     "start_time": "2021-11-17T20:57:31.616547",
     "status": "completed"
    },
    "tags": []
   },
   "source": [
    "### X, names, y"
   ]
  },
  {
   "cell_type": "code",
   "execution_count": 18,
   "metadata": {
    "execution": {
     "iopub.execute_input": "2021-11-17T20:57:31.729719Z",
     "iopub.status.busy": "2021-11-17T20:57:31.729217Z",
     "iopub.status.idle": "2021-11-17T20:57:31.771921Z",
     "shell.execute_reply": "2021-11-17T20:57:31.771476Z",
     "shell.execute_reply.started": "2021-11-17T20:53:30.013185Z"
    },
    "jupyter": {
     "source_hidden": true
    },
    "papermill": {
     "duration": 0.082011,
     "end_time": "2021-11-17T20:57:31.772051",
     "exception": false,
     "start_time": "2021-11-17T20:57:31.690040",
     "status": "completed"
    },
    "tags": []
   },
   "outputs": [],
   "source": [
    "df2 = pd.read_csv('../input/gtzan-features/musicpack4_names_features_test.csv')\n",
    "X,names,y = df2.drop(columns=['name','label']), df2['name'], df2['label']\n",
    "X = scaler.transform(X)"
   ]
  },
  {
   "cell_type": "markdown",
   "metadata": {
    "papermill": {
     "duration": 0.034038,
     "end_time": "2021-11-17T20:57:31.839144",
     "exception": false,
     "start_time": "2021-11-17T20:57:31.805106",
     "status": "completed"
    },
    "tags": []
   },
   "source": [
    "### Train"
   ]
  },
  {
   "cell_type": "code",
   "execution_count": 19,
   "metadata": {
    "execution": {
     "iopub.execute_input": "2021-11-17T20:57:31.914337Z",
     "iopub.status.busy": "2021-11-17T20:57:31.913756Z",
     "iopub.status.idle": "2021-11-17T20:59:24.067632Z",
     "shell.execute_reply": "2021-11-17T20:59:24.068214Z",
     "shell.execute_reply.started": "2021-11-17T20:53:30.039310Z"
    },
    "papermill": {
     "duration": 112.19589,
     "end_time": "2021-11-17T20:59:24.068434",
     "exception": false,
     "start_time": "2021-11-17T20:57:31.872544",
     "status": "completed"
    },
    "tags": []
   },
   "outputs": [
    {
     "data": {
      "application/vnd.jupyter.widget-view+json": {
       "model_id": "319d906ad114461caa04d3d22579f2a0",
       "version_major": 2,
       "version_minor": 0
      },
      "text/plain": [
       "  0%|          | 0/100 [00:00<?, ?it/s]"
      ]
     },
     "metadata": {},
     "output_type": "display_data"
    },
    {
     "name": "stdout",
     "output_type": "stream",
     "text": [
      "Loss: 0.9443101286888123\n",
      "Accuracy: 0.6909848484848485\n"
     ]
    },
    {
     "data": {
      "image/png": "[encoded data removed]",
      "text/plain": [
       "<Figure size 1296x360 with 1 Axes>"
      ]
     },
     "metadata": {
      "needs_background": "light"
     },
     "output_type": "display_data"
    },
    {
     "data": {
      "image/png": "[encoded data removed]",
      "text/plain": [
       "<Figure size 1296x360 with 1 Axes>"
      ]
     },
     "metadata": {
      "needs_background": "light"
     },
     "output_type": "display_data"
    },
    {
     "data": {
      "image/png": "[encoded data removed]",
      "text/plain": [
       "<Figure size 1296x360 with 1 Axes>"
      ]
     },
     "metadata": {
      "needs_background": "light"
     },
     "output_type": "display_data"
    },
    {
     "name": "stdout",
     "output_type": "stream",
     "text": [
      "0.4026666666666667\n"
     ]
    },
    {
     "data": {
      "image/png": "[encoded data removed]",
      "text/plain": [
       "<Figure size 432x288 with 2 Axes>"
      ]
     },
     "metadata": {
      "needs_background": "light"
     },
     "output_type": "display_data"
    },
    {
     "name": "stdout",
     "output_type": "stream",
     "text": [
      "Accuracy test2: 0.38266666666666665\n"
     ]
    },
    {
     "data": {
      "image/png": "[encoded data removed]",
      "text/plain": [
       "<Figure size 432x288 with 2 Axes>"
      ]
     },
     "metadata": {
      "needs_background": "light"
     },
     "output_type": "display_data"
    },
    {
     "name": "stdout",
     "output_type": "stream",
     "text": [
      "CPU times: user 1min 48s, sys: 1.32 s, total: 1min 49s\n",
      "Wall time: 1min 52s\n"
     ]
    }
   ],
   "source": [
    "%%time\n",
    "########## Net\n",
    "seed_init()\n",
    "scores = []\n",
    "accuracies = []\n",
    "classifierNetParams = {'n_hidden':[128, 64,16], 'dropout':0, 'act':'elu'}\n",
    "# classifierNetParams = {'n_hidden':[256,128,64], 'dropout':0.0, 'act':'elu'}\n",
    "# classifierNetParams = {'n_hidden':[4096, 1024, 256], 'dropout':0.0, 'act':'elu'}\n",
    "net = ClassifierNet(**classifierNetParams)\n",
    "X_train = torch.tensor(X_train_, dtype=torch.float)\n",
    "y_train = y_train_\n",
    "X_test = torch.tensor(X_test_, dtype=torch.float)\n",
    "y_test = y_test_\n",
    "\n",
    "adam_params = dict(lr=1e-2, betas=(0.9, 0.999), eps=1e-08, weight_decay=0, amsgrad=False)\n",
    "sched_params = dict(milestones=[2*20,9*20,20*20], gamma=0.1)\n",
    "\n",
    "train_loss, test_loss, test_acc = net.fit(X_train, y_train, X_test, y_test, train_minutes=1, verbose=1, epochs=100,\n",
    "    verbose_interval=300, opt_params = adam_params, sched_params=sched_params, batch_size=669)\n",
    "\n",
    "print(\"Loss: {0}\".format(min(test_loss)))\n",
    "print(\"Accuracy: {0}\".format(accuracy_score(y_test, net.predict(X_test.to(device)))))\n",
    "plot(train_loss, title='Train loss', xlabel='Batch number', ylabel='Loss')\n",
    "plot(test_loss, title='Test loss', xlabel='Epoch number', ylabel='Loss')\n",
    "plot(test_acc, title='Test accuracy', xlabel='Epoch number', ylabel='Accuracy')\n",
    "\n",
    "X_valid=X_valid_\n",
    "y_valid=y_valid_\n",
    "results = net.predict(X_valid)\n",
    "print(accuracy_score(y_valid, results))\n",
    "scores = pd.DataFrame(data=np.zeros((10,10)), index=genres, columns=genres)\n",
    "for valid,res in zip(y_valid, results):\n",
    "    scores[valid][res] += 1\n",
    "sns.heatmap(scores)\n",
    "plt.show()\n",
    "\n",
    "results = net.predict(X)\n",
    "print(\"Accuracy test2: {0}\".format(accuracy_score(y, results)))\n",
    "scores = pd.DataFrame(data=np.zeros((10,10)), index=genres, columns=genres)\n",
    "for valid,res in zip(y, results):\n",
    "    scores[valid][res] += 1\n",
    "sns.heatmap(scores)\n",
    "plt.show()"
   ]
  },
  {
   "cell_type": "markdown",
   "metadata": {
    "papermill": {
     "duration": 0.040765,
     "end_time": "2021-11-17T20:59:24.150093",
     "exception": false,
     "start_time": "2021-11-17T20:59:24.109328",
     "status": "completed"
    },
    "tags": []
   },
   "source": [
    "### Test best net"
   ]
  },
  {
   "cell_type": "code",
   "execution_count": 20,
   "metadata": {
    "execution": {
     "iopub.execute_input": "2021-11-17T20:59:24.240821Z",
     "iopub.status.busy": "2021-11-17T20:59:24.239996Z",
     "iopub.status.idle": "2021-11-17T20:59:26.377073Z",
     "shell.execute_reply": "2021-11-17T20:59:26.376592Z",
     "shell.execute_reply.started": "2021-11-17T20:55:11.135430Z"
    },
    "papermill": {
     "duration": 2.18675,
     "end_time": "2021-11-17T20:59:26.377201",
     "exception": false,
     "start_time": "2021-11-17T20:59:24.190451",
     "status": "completed"
    },
    "tags": []
   },
   "outputs": [
    {
     "name": "stdout",
     "output_type": "stream",
     "text": [
      "Accuracy test: 0.6831818181818182\n"
     ]
    },
    {
     "data": {
      "image/png": "[encoded data removed]",
      "text/plain": [
       "<Figure size 432x288 with 2 Axes>"
      ]
     },
     "metadata": {
      "needs_background": "light"
     },
     "output_type": "display_data"
    },
    {
     "name": "stdout",
     "output_type": "stream",
     "text": [
      "Accuracy valid: 0.444\n"
     ]
    },
    {
     "data": {
      "image/png": "[encoded data removed]",
      "text/plain": [
       "<Figure size 432x288 with 2 Axes>"
      ]
     },
     "metadata": {
      "needs_background": "light"
     },
     "output_type": "display_data"
    },
    {
     "name": "stdout",
     "output_type": "stream",
     "text": [
      "Accuracy test2: 0.43333333333333335\n"
     ]
    },
    {
     "data": {
      "image/png": "[encoded data removed]",
      "text/plain": [
       "<Figure size 432x288 with 2 Axes>"
      ]
     },
     "metadata": {
      "needs_background": "light"
     },
     "output_type": "display_data"
    }
   ],
   "source": [
    "seed_init()\n",
    "X_valid=X_valid_\n",
    "y_valid=y_valid_\n",
    "# net_best = net\n",
    "net_best = ClassifierNet(**classifierNetParams).to(device)\n",
    "net_best.load_state_dict(net.best_params['net_state_dict'])\n",
    "\n",
    "# print(\"Loss: {0}\".format(net.best_loss.item()))\n",
    "results=net_best.predict(X_test.to(device))\n",
    "print(\"Accuracy test: {0}\".format(accuracy_score(y_test, results)))\n",
    "scores = pd.DataFrame(data=np.zeros((10,10)), index=genres, columns=genres)\n",
    "for test,res in zip(y_test, results):\n",
    "    scores[test][res] += 1\n",
    "sns.heatmap(scores)\n",
    "plt.show()\n",
    "\n",
    "results = net_best.predict(X_valid)\n",
    "print(\"Accuracy valid: {0}\".format(accuracy_score(y_valid, results)))\n",
    "scores = pd.DataFrame(data=np.zeros((10,10)), index=genres, columns=genres)\n",
    "for valid,res in zip(y_valid, results):\n",
    "    scores[valid][res] += 1\n",
    "sns.heatmap(scores)\n",
    "plt.show()\n",
    "# print(net.best_params)\n",
    "\n",
    "results = net_best.predict(X)\n",
    "print(\"Accuracy test2: {0}\".format(accuracy_score(y, results)))\n",
    "scores = pd.DataFrame(data=np.zeros((10,10)), index=genres, columns=genres)\n",
    "for valid,res in zip(y, results):\n",
    "    scores[valid][res] += 1\n",
    "sns.heatmap(scores)\n",
    "plt.show()"
   ]
  },
  {
   "cell_type": "code",
   "execution_count": 21,
   "metadata": {
    "execution": {
     "iopub.execute_input": "2021-11-17T20:59:26.467554Z",
     "iopub.status.busy": "2021-11-17T20:59:26.466208Z",
     "iopub.status.idle": "2021-11-17T20:59:26.485958Z",
     "shell.execute_reply": "2021-11-17T20:59:26.485510Z",
     "shell.execute_reply.started": "2021-11-17T20:55:13.122301Z"
    },
    "papermill": {
     "duration": 0.065464,
     "end_time": "2021-11-17T20:59:26.486085",
     "exception": false,
     "start_time": "2021-11-17T20:59:26.420621",
     "status": "completed"
    },
    "tags": []
   },
   "outputs": [
    {
     "data": {
      "text/plain": [
       "tensor(0.9443)"
      ]
     },
     "execution_count": 21,
     "metadata": {},
     "output_type": "execute_result"
    }
   ],
   "source": [
    "net.best_params['loss']"
   ]
  },
  {
   "cell_type": "markdown",
   "metadata": {
    "papermill": {
     "duration": 0.042972,
     "end_time": "2021-11-17T20:59:26.572119",
     "exception": false,
     "start_time": "2021-11-17T20:59:26.529147",
     "status": "completed"
    },
    "tags": []
   },
   "source": [
    "### Parameters seceltion"
   ]
  },
  {
   "cell_type": "code",
   "execution_count": 22,
   "metadata": {
    "execution": {
     "iopub.execute_input": "2021-11-17T20:59:26.663178Z",
     "iopub.status.busy": "2021-11-17T20:59:26.662511Z",
     "iopub.status.idle": "2021-11-17T20:59:26.665744Z",
     "shell.execute_reply": "2021-11-17T20:59:26.665310Z",
     "shell.execute_reply.started": "2021-11-17T20:55:13.131663Z"
    },
    "jupyter": {
     "source_hidden": true
    },
    "papermill": {
     "duration": 0.050417,
     "end_time": "2021-11-17T20:59:26.665878",
     "exception": false,
     "start_time": "2021-11-17T20:59:26.615461",
     "status": "completed"
    },
    "tags": []
   },
   "outputs": [],
   "source": [
    "# scores = []\n",
    "# accuracies = []\n",
    "# valids = []\n",
    "# params = []\n",
    "# param_all_pairs = [[nh1,nh2,nh3,dr,lr,ml1,ml2,ml3,gm,ep,bs,act] for nh1,nh2,nh3,lr,ml1,ml2,ml3,gm,ep,bs,act in \n",
    "#                    [(128,64,16,1e-2,20,50,90,0.5,200,669,'elu')] for dr in [i/100 for i in range(101)]]\n",
    "# cnt=1\n",
    "# for (nh1,nh2,nh3,dr,lr,ml1,ml2,ml3,gm,ep,bs,act) in param_all_pairs: \n",
    "#     seed_init()\n",
    "#     torch.cuda.empty_cache()\n",
    "    \n",
    "#     classifierNetParams = {'n_hidden':[nh1,nh2,nh3], 'dropout':dr, 'act':act}\n",
    "#     net = ClassifierNet(**classifierNetParams)\n",
    "#     adam_params = dict(lr=lr, betas=(0.9, 0.999), eps=1e-08, weight_decay=0, amsgrad=False)\n",
    "#     sched_params = dict(milestones=[ml1,ml2,ml3], gamma=gm)\n",
    "\n",
    "#     train_loss, test_loss, test_acc = net.fit(X_train, y_train, X_test, y_test, train_minutes=1, verbose=0, epochs=ep,\n",
    "#                             verbose_interval=300, opt_params = adam_params, sched_params=sched_params, batch_size=bs)\n",
    "    \n",
    "#     print(\"#\" + str(cnt))\n",
    "#     cnt+=1\n",
    "#     params.append(\"Parameters: n_hidden=[{0},{1},{2}], dropout={3}, lr={4}, milestones=[{5},{6},{7}], gamma={8}, epochs={9}, batch_size={10}, activation={11}\"\n",
    "#                   .format(nh1,nh2,nh3,dr,lr,ml1,ml2,ml3,gm,ep,bs,act))\n",
    "#     print(params[-1])\n",
    "\n",
    "# ### Best\n",
    "#     scores.append(min(test_loss))\n",
    "#     print(\"Best loss: {0}\".format(scores[-1]))\n",
    "#     net_best = ClassifierNet(**classifierNetParams).to(device)\n",
    "#     net_best.load_state_dict(net.best_params['net_state_dict'])\n",
    "#     accuracies.append(accuracy_score(y_test, net_best.predict(X_test.to(device))))\n",
    "#     print(\"Test accuracy: {0}\".format(accuracies[-1]))\n",
    "#     results = net_best.predict(X_valid)\n",
    "#     valids.append(accuracy_score(y_valid, results))\n",
    "#     print(\"Validation accuracy: {0}\".format(valids[-1]))\n",
    "    \n",
    "# ### Last\n",
    "#     # scores.append(test_loss[-1])\n",
    "#     # print(\"Loss: {0}\".format(scores[-1]))\n",
    "#     # results = net.predict(X_test)\n",
    "#     # accuracies.append(accuracy_score(y_test, results))\n",
    "#     # print(\"Test accuracy: {0}\".format(accuracies[-1]))\n",
    "#     # results = net.predict(X_valid)\n",
    "#     # valids.append(accuracy_score(y_valid, results))\n",
    "#     # print(\"Validation accuracy: {0}\".format(valids[-1]))"
   ]
  },
  {
   "cell_type": "code",
   "execution_count": 23,
   "metadata": {
    "execution": {
     "iopub.execute_input": "2021-11-17T20:59:26.755820Z",
     "iopub.status.busy": "2021-11-17T20:59:26.755249Z",
     "iopub.status.idle": "2021-11-17T20:59:26.758306Z",
     "shell.execute_reply": "2021-11-17T20:59:26.757843Z",
     "shell.execute_reply.started": "2021-11-17T20:55:13.139705Z"
    },
    "jupyter": {
     "source_hidden": true
    },
    "papermill": {
     "duration": 0.04885,
     "end_time": "2021-11-17T20:59:26.758404",
     "exception": false,
     "start_time": "2021-11-17T20:59:26.709554",
     "status": "completed"
    },
    "tags": []
   },
   "outputs": [],
   "source": [
    "# torch.save(net.best_params, './net_0.8315_42.66_elu.net')"
   ]
  },
  {
   "cell_type": "code",
   "execution_count": 24,
   "metadata": {
    "execution": {
     "iopub.execute_input": "2021-11-17T20:59:26.847570Z",
     "iopub.status.busy": "2021-11-17T20:59:26.846676Z",
     "iopub.status.idle": "2021-11-17T20:59:26.849590Z",
     "shell.execute_reply": "2021-11-17T20:59:26.849196Z",
     "shell.execute_reply.started": "2021-11-17T20:55:13.151302Z"
    },
    "jupyter": {
     "source_hidden": true
    },
    "papermill": {
     "duration": 0.048714,
     "end_time": "2021-11-17T20:59:26.849692",
     "exception": false,
     "start_time": "2021-11-17T20:59:26.800978",
     "status": "completed"
    },
    "tags": []
   },
   "outputs": [],
   "source": [
    "# gen = net.model.modules()\n",
    "# arr = gen.__next__()\n",
    "# print(arr)\n",
    "# hist(arr[8].weight.cpu().detach().reshape(-1).numpy(), bins=300)\n",
    "# # assert False"
   ]
  },
  {
   "cell_type": "markdown",
   "metadata": {
    "papermill": {
     "duration": 0.042707,
     "end_time": "2021-11-17T20:59:26.935300",
     "exception": false,
     "start_time": "2021-11-17T20:59:26.892593",
     "status": "completed"
    },
    "tags": []
   },
   "source": [
    "### RFC"
   ]
  },
  {
   "cell_type": "code",
   "execution_count": 25,
   "metadata": {
    "_cell_guid": "ece7fe63-2fa3-48c0-adf8-dadd7cd256b5",
    "_uuid": "28e60441-265c-430c-8b67-0ad1e0a1ae14",
    "execution": {
     "iopub.execute_input": "2021-11-17T20:59:27.025854Z",
     "iopub.status.busy": "2021-11-17T20:59:27.025023Z",
     "iopub.status.idle": "2021-11-17T20:59:27.027239Z",
     "shell.execute_reply": "2021-11-17T20:59:27.027606Z",
     "shell.execute_reply.started": "2021-11-17T20:55:13.160289Z"
    },
    "jupyter": {
     "source_hidden": true
    },
    "papermill": {
     "duration": 0.048761,
     "end_time": "2021-11-17T20:59:27.027730",
     "exception": false,
     "start_time": "2021-11-17T20:59:26.978969",
     "status": "completed"
    },
    "tags": []
   },
   "outputs": [],
   "source": [
    "# %%time\n",
    "# dataset = pd.read_csv('../input/gtzan-features/features(scaled)_3_5_10_15_30_rebuilt.csv')\n",
    "# dataset = dataset.sample(frac=1, random_state=SEED).reset_index(drop=True)\n",
    "# X = dataset.drop(columns=['label'])\n",
    "# Y = dataset.loc[:,'label']\n",
    "# print(X.shape, Y.shape)\n",
    "# scores = []\n",
    "# scores_mx, scores_mn = [], []\n",
    "# nums = [i for i in range(60, 420, 20)]\n",
    "# for num in nums:\n",
    "#     rfc = RandomForestClassifier(n_estimators=num, random_state=SEED)\n",
    "#     cv_scores = cross_val_score(rfc, X, Y, cv=5, n_jobs=4)\n",
    "#     scores.append(cv_scores.mean())\n",
    "#     scores_mn.append(cv_scores.min())\n",
    "#     scores_mx.append(cv_scores.max())\n",
    "#     print(str(num) + \" \" + str(cv_scores.min()) + \" \" + str(cv_scores.mean()) + \" \" + str(cv_scores.max()))\n",
    "# plt.plot(nums, scores)\n",
    "# plt.plot(nums, scores_mn)\n",
    "# plt.plot(nums, scores_mx)\n",
    "# ### D 0.968  0.97   0.972\n",
    "# ### S 0.9425 0.949  0.953\n",
    "# ### N 0.946  0.947  0.9495"
   ]
  },
  {
   "cell_type": "code",
   "execution_count": 26,
   "metadata": {
    "_cell_guid": "ece7fe63-2fa3-48c0-adf8-dadd7cd256b5",
    "_uuid": "28e60441-265c-430c-8b67-0ad1e0a1ae14",
    "execution": {
     "iopub.execute_input": "2021-11-17T20:59:27.116985Z",
     "iopub.status.busy": "2021-11-17T20:59:27.116293Z",
     "iopub.status.idle": "2021-11-17T20:59:27.119055Z",
     "shell.execute_reply": "2021-11-17T20:59:27.118621Z",
     "shell.execute_reply.started": "2021-11-17T20:55:13.169230Z"
    },
    "jupyter": {
     "source_hidden": true
    },
    "papermill": {
     "duration": 0.048583,
     "end_time": "2021-11-17T20:59:27.119157",
     "exception": false,
     "start_time": "2021-11-17T20:59:27.070574",
     "status": "completed"
    },
    "tags": []
   },
   "outputs": [],
   "source": [
    "# %%time\n",
    "# ########## XGBRFC\n",
    "# # dataset = pd.read_csv('../input/gtzan-features/features(scaled)_3_5_10_15_30_rebuilt.csv')\n",
    "# # dataset = dataset.sample(frac=1, random_state=SEED).reset_index(drop=True)\n",
    "# # X = dataset.drop(columns=['label'])\n",
    "# # Y = dataset.loc[:,'label']\n",
    "# # # pca=PCA(n_components=num, svd_solver='auto', random_state=SEED)\n",
    "# # # X = pca.fit_transform(X)\n",
    "# # print(X.shape, Y.shape)\n",
    "# scores = []\n",
    "# accuracies = []\n",
    "# # scores_mx, scores_mn = [], []\n",
    "# nums = [i for i in range(5,205,5)]\n",
    "# for num in nums:\n",
    "#     xgbrfc = XGBRFClassifier(n_estimators=num, random_state=SEED, max_depth=21, eta=0.3, n_jobs=n_jobs, \n",
    "#                        subsample=0.7, reg_alpha=0, reg_lambda=num, booster='gbtree', predictor='auto',\n",
    "#                        tree_method='gpu_hist', eval_metric='mlogloss')\n",
    "#     xgbrfc.fit(X_train, y_train)\n",
    "#     preds = xgbrfc.predict_proba(X_test)\n",
    "#     accuracies.append(accuracy_score(y_test, [genres[x] for x in preds.argmax(axis=1)]))\n",
    "#     scores.append(log_loss(y_test, preds))\n",
    "#     print(str(num) + \" \" + str(scores[-1]) + \" \" + str(accuracies[-1]))\n",
    "# plot(nums, scores)\n",
    "# plot(nums,accuracies)\n",
    "# #56 - 0.87468671679198 0.877768673776926 0.8806106174527227"
   ]
  },
  {
   "cell_type": "markdown",
   "metadata": {
    "papermill": {
     "duration": 0.042673,
     "end_time": "2021-11-17T20:59:27.204297",
     "exception": false,
     "start_time": "2021-11-17T20:59:27.161624",
     "status": "completed"
    },
    "tags": []
   },
   "source": [
    "### XGBClassifier"
   ]
  },
  {
   "cell_type": "code",
   "execution_count": 27,
   "metadata": {
    "execution": {
     "iopub.execute_input": "2021-11-17T20:59:27.296437Z",
     "iopub.status.busy": "2021-11-17T20:59:27.295889Z",
     "iopub.status.idle": "2021-11-17T20:59:31.529637Z",
     "shell.execute_reply": "2021-11-17T20:59:31.530489Z",
     "shell.execute_reply.started": "2021-11-17T20:55:13.182402Z"
    },
    "papermill": {
     "duration": 4.283412,
     "end_time": "2021-11-17T20:59:31.530689",
     "exception": false,
     "start_time": "2021-11-17T20:59:27.247277",
     "status": "completed"
    },
    "tags": []
   },
   "outputs": [
    {
     "name": "stdout",
     "output_type": "stream",
     "text": [
      "5 0.9336151266127743 0.6846212121212121\n",
      "CPU times: user 4.3 s, sys: 296 ms, total: 4.6 s\n",
      "Wall time: 4.23 s\n"
     ]
    }
   ],
   "source": [
    "%%time\n",
    "########## XGBC\n",
    "# dataset = pd.read_csv('../input/gtzan-features/features(scaled)_3_5_10_15_30_rebuilt.csv')\n",
    "# dataset = dataset.sample(frac=1, random_state=SEED).reset_index(drop=True)\n",
    "# X = dataset.drop(columns=['label'])\n",
    "# Y = dataset.loc[:,'label']\n",
    "# print(X.shape, Y.shape)\n",
    "scores = []\n",
    "accuracies = []\n",
    "nums = [i for i in range(5,6)]\n",
    "for num in nums:\n",
    "    seed_init()\n",
    "    xgbc = XGBClassifier(n_estimators=50, random_state=SEED, max_depth=num, learning_rate=0.3, n_jobs=n_jobs, \n",
    "                       subsample=0.7, reg_alpha=0, reg_lambda=0, booster='gbtree', predictor='auto',\n",
    "                       tree_method='gpu_hist', eval_metric='mlogloss')\n",
    "    xgbc.fit(X_train_, y_train)\n",
    "    preds = xgbc.predict_proba(X_test.cpu().numpy())\n",
    "    accuracies.append(accuracy_score(y_test, [genres[x] for x in preds.argmax(axis=1)]))\n",
    "    scores.append(log_loss(y_test, preds))\n",
    "    print(str(num) + \" \" + str(scores[-1]) + \" \" + str(accuracies[-1]))\n",
    "# plot(nums, scores)\n",
    "# plot(nums,accuracies)\n",
    "#lr=0.31+-0.05"
   ]
  },
  {
   "cell_type": "code",
   "execution_count": 28,
   "metadata": {
    "execution": {
     "iopub.execute_input": "2021-11-17T20:59:31.621643Z",
     "iopub.status.busy": "2021-11-17T20:59:31.620937Z",
     "iopub.status.idle": "2021-11-17T20:59:31.623758Z",
     "shell.execute_reply": "2021-11-17T20:59:31.623369Z",
     "shell.execute_reply.started": "2021-11-17T20:55:15.053706Z"
    },
    "jupyter": {
     "source_hidden": true
    },
    "papermill": {
     "duration": 0.04928,
     "end_time": "2021-11-17T20:59:31.623893",
     "exception": false,
     "start_time": "2021-11-17T20:59:31.574613",
     "status": "completed"
    },
    "tags": []
   },
   "outputs": [],
   "source": [
    "# %%time\n",
    "# scores = []\n",
    "# # nums = [i for i in range(60,420,20)]\n",
    "# for num in [1]:\n",
    "#     dataset = pd.read_csv('../input/gtzan-features/features(scaled)_3_5_10_15_30_rebuilt.csv')[:-999]\n",
    "#     dataset = dataset.sample(frac=1, random_state=SEED).reset_index(drop=True)\n",
    "#     X = dataset.drop(columns=['label'])\n",
    "#     Y = dataset.loc[:,'label']\n",
    "# #     classifier = XGBRFClassifier(n_estimators=56, random_state=SEED, max_depth=21, eta=0.3, n_jobs=n_jobs, \n",
    "# #                        subsample=0.7, reg_alpha=0, reg_lambda=0, booster='gbtree', predictor='auto',\n",
    "# #                        tree_method='gpu_hist', eval_metric='mlogloss')\n",
    "#     classifier = XGBClassifier(n_estimators=180, random_state=SEED, max_depth=6, learning_rate=0.3, n_jobs=n_jobs, \n",
    "#                        subsample=0.7, reg_alpha=0, reg_lambda=0, booster='gbtree', predictor='auto',\n",
    "#                        tree_method='gpu_hist', eval_metric='mlogloss')\n",
    "#     classifier.fit(X,Y)\n",
    "#     dataset = pd.read_csv('../input/gtzan-features/features(scaled)_3_5_10_15_30_rebuilt.csv')[-999:]\n",
    "#     dataset = dataset.sample(frac=1, random_state=SEED*2).reset_index(drop=True)\n",
    "#     X = dataset.drop(columns=['label'])\n",
    "#     Y = dataset.loc[:,'label']\n",
    "#     results = classifier.predict(X)\n",
    "#     accuracy = accuracy_score(Y, results)\n",
    "#     scores.append(accuracy)\n",
    "#     print(str(num) + \" \" + str(scores[-1]))\n",
    "# plot(nums, scores)\n",
    "# ### xgbrfc - 0.97997997997998\n",
    "# ### xgbc   - 0.995995995995996"
   ]
  },
  {
   "cell_type": "markdown",
   "metadata": {
    "papermill": {
     "duration": 0.054787,
     "end_time": "2021-11-17T20:59:31.721379",
     "exception": false,
     "start_time": "2021-11-17T20:59:31.666592",
     "status": "completed"
    },
    "tags": []
   },
   "source": [
    "### Predict test dataset"
   ]
  },
  {
   "cell_type": "code",
   "execution_count": 29,
   "metadata": {
    "execution": {
     "iopub.execute_input": "2021-11-17T20:59:31.823583Z",
     "iopub.status.busy": "2021-11-17T20:59:31.822819Z",
     "iopub.status.idle": "2021-11-17T21:00:07.380319Z",
     "shell.execute_reply": "2021-11-17T21:00:07.379591Z",
     "shell.execute_reply.started": "2021-11-17T20:55:15.060283Z"
    },
    "papermill": {
     "duration": 35.612873,
     "end_time": "2021-11-17T21:00:07.380441",
     "exception": false,
     "start_time": "2021-11-17T20:59:31.767568",
     "status": "completed"
    },
    "tags": []
   },
   "outputs": [
    {
     "name": "stdout",
     "output_type": "stream",
     "text": [
      "0.37866666666666665\n"
     ]
    },
    {
     "data": {
      "image/png": "[encoded data removed]",
      "text/plain": [
       "<Figure size 432x288 with 2 Axes>"
      ]
     },
     "metadata": {
      "needs_background": "light"
     },
     "output_type": "display_data"
    }
   ],
   "source": [
    "# dataset = pd.read_csv('../input/gtzan-features/features(scaled)_3_5_10_15_30_rebuilt.csv')\n",
    "# dataset = dataset.sample(frac=1, random_state=SEED).reset_index(drop=True)\n",
    "# X_train = dataset.drop(columns=['label'])\n",
    "# Y_train = dataset.loc[:,'label']\n",
    "seed_init()\n",
    "classifier = XGBClassifier(n_estimators=200, random_state=SEED, max_depth=12, learning_rate=0.1, n_jobs=n_jobs, \n",
    "                       subsample=0.7, reg_alpha=0, reg_lambda=0, booster='gbtree', predictor='auto',\n",
    "                       tree_method='gpu_hist', eval_metric='mlogloss')\n",
    "classifier.fit(X_train_,y_train_)\n",
    "results = classifier.predict(X)\n",
    "accuracy = accuracy_score(y, results)\n",
    "print(accuracy)\n",
    "scores = pd.DataFrame(data=np.zeros((10,10)), index=genres, columns=genres)\n",
    "for valid,res in zip(y, results):\n",
    "#     print(valid,res)\n",
    "    scores[valid][res] += 1\n",
    "sns.heatmap(scores)\n",
    "plt.show()"
   ]
  },
  {
   "cell_type": "markdown",
   "metadata": {
    "papermill": {
     "duration": 0.043955,
     "end_time": "2021-11-17T21:00:07.468690",
     "exception": false,
     "start_time": "2021-11-17T21:00:07.424735",
     "status": "completed"
    },
    "tags": []
   },
   "source": [
    "### Predict test dataset with the trained net"
   ]
  },
  {
   "cell_type": "code",
   "execution_count": 30,
   "metadata": {
    "execution": {
     "iopub.execute_input": "2021-11-17T21:00:07.563806Z",
     "iopub.status.busy": "2021-11-17T21:00:07.563019Z",
     "iopub.status.idle": "2021-11-17T21:00:10.048245Z",
     "shell.execute_reply": "2021-11-17T21:00:10.047659Z",
     "shell.execute_reply.started": "2021-11-17T20:55:50.744610Z"
    },
    "papermill": {
     "duration": 2.535878,
     "end_time": "2021-11-17T21:00:10.048374",
     "exception": false,
     "start_time": "2021-11-17T21:00:07.512496",
     "status": "completed"
    },
    "tags": []
   },
   "outputs": [
    {
     "name": "stdout",
     "output_type": "stream",
     "text": [
      "Accuracy: 0.43333333333333335\n"
     ]
    },
    {
     "data": {
      "image/png": "[encoded data removed]",
      "text/plain": [
       "<Figure size 432x288 with 2 Axes>"
      ]
     },
     "metadata": {
      "needs_background": "light"
     },
     "output_type": "display_data"
    }
   ],
   "source": [
    "seed_init()\n",
    "# X_valid=X_valid_\n",
    "# y_valid=y_valid_\n",
    "# net_best = net\n",
    "net_best = ClassifierNet(**classifierNetParams).to(device)\n",
    "net_best.load_state_dict(net.best_params['net_state_dict'])\n",
    "\n",
    "results = net_best.predict_proba(X).cpu().data.numpy()\n",
    "print(\"Accuracy: {0}\".format(accuracy_score(y, [genres[el] for el in np.argmax(results,axis=1)])))\n",
    "# for i in range(X_valid.shape[0]):\n",
    "#     results_dataframe = pd.DataFrame([results[i]], columns=genres)\n",
    "#     print(str(i+1) + \"\\t\" + genres[np.argmax(results[i])] + \"\\t\" + names[i])\n",
    "#     display(results_dataframe)\n",
    "\n",
    "results = [genres[el] for el in np.argmax(results,axis=1)]\n",
    "scores = pd.DataFrame(data=np.zeros((10,10)), index=genres, columns=genres)\n",
    "for valid,res in zip(y, results):\n",
    "#     print(valid,res)\n",
    "    scores[valid][res] += 1\n",
    "sns.heatmap(scores)\n",
    "plt.show()"
   ]
  },
  {
   "cell_type": "code",
   "execution_count": 31,
   "metadata": {
    "execution": {
     "iopub.execute_input": "2021-11-17T21:00:10.156544Z",
     "iopub.status.busy": "2021-11-17T21:00:10.155137Z",
     "iopub.status.idle": "2021-11-17T21:00:10.158248Z",
     "shell.execute_reply": "2021-11-17T21:00:10.157738Z",
     "shell.execute_reply.started": "2021-11-17T20:55:51.321090Z"
    },
    "jupyter": {
     "source_hidden": true
    },
    "papermill": {
     "duration": 0.057446,
     "end_time": "2021-11-17T21:00:10.158362",
     "exception": false,
     "start_time": "2021-11-17T21:00:10.100916",
     "status": "completed"
    },
    "tags": []
   },
   "outputs": [],
   "source": [
    "# %%time\n",
    "# results = classifier.predict_proba(X_valid)\n",
    "# for i in range(X_valid.shape[0]):\n",
    "#     results_dataframe = pd.DataFrame([results[i]], columns=genres)\n",
    "#     print(str(i+1) + \"\\t\" + genres[np.argmax(results[i])] + \"\\t\" + names_valid[i])\n",
    "#     display(results_dataframe)"
   ]
  },
  {
   "cell_type": "code",
   "execution_count": 32,
   "metadata": {
    "execution": {
     "iopub.execute_input": "2021-11-17T21:00:10.263423Z",
     "iopub.status.busy": "2021-11-17T21:00:10.262394Z",
     "iopub.status.idle": "2021-11-17T21:00:10.266048Z",
     "shell.execute_reply": "2021-11-17T21:00:10.266516Z",
     "shell.execute_reply.started": "2021-11-17T20:55:51.326954Z"
    },
    "jupyter": {
     "source_hidden": true
    },
    "papermill": {
     "duration": 0.057712,
     "end_time": "2021-11-17T21:00:10.266663",
     "exception": false,
     "start_time": "2021-11-17T21:00:10.208951",
     "status": "completed"
    },
    "tags": []
   },
   "outputs": [],
   "source": [
    "# %%time\n",
    "# extractor = MusicFeaturesExtractor()\n",
    "# cutter = Cutter()\n",
    "# loader = Loader()\n",
    "\n",
    "# data_test, names = loader.load_tracks('../input/musicpack1', get_names=True)\n",
    "# data_test = extractor.extract(data_test)"
   ]
  },
  {
   "cell_type": "code",
   "execution_count": 33,
   "metadata": {
    "execution": {
     "iopub.execute_input": "2021-11-17T21:00:10.372076Z",
     "iopub.status.busy": "2021-11-17T21:00:10.370767Z",
     "iopub.status.idle": "2021-11-17T21:00:10.373352Z",
     "shell.execute_reply": "2021-11-17T21:00:10.373755Z",
     "shell.execute_reply.started": "2021-11-17T20:55:51.336471Z"
    },
    "jupyter": {
     "source_hidden": true
    },
    "papermill": {
     "duration": 0.05622,
     "end_time": "2021-11-17T21:00:10.373909",
     "exception": false,
     "start_time": "2021-11-17T21:00:10.317689",
     "status": "completed"
    },
    "tags": []
   },
   "outputs": [],
   "source": [
    "# %%time\n",
    "# results = classifier.predict_proba(data_test)\n",
    "# for i in range(data_test.shape[0]):\n",
    "#     results_dataframe = pd.DataFrame([results[i]], columns=genres)\n",
    "#     print(str(i+1) + \"\\t\" + genres[np.argmax(results[i])] + \"\\t\" + names[i])\n",
    "#     display(results_dataframe)"
   ]
  }
 ],
 "metadata": {
  "kernelspec": {
   "display_name": "Python 3",
   "language": "python",
   "name": "python3"
  },
  "language_info": {
   "codemirror_mode": {
    "name": "ipython",
    "version": 3
   },
   "file_extension": ".py",
   "mimetype": "text/x-python",
   "name": "python",
   "nbconvert_exporter": "python",
   "pygments_lexer": "ipython3",
   "version": "3.8.5"
  },
  "papermill": {
   "default_parameters": {},
   "duration": 178.737117,
   "end_time": "2021-11-17T21:00:12.857119",
   "environment_variables": {},
   "exception": null,
   "input_path": "__notebook__.ipynb",
   "output_path": "__notebook__.ipynb",
   "parameters": {},
   "start_time": "2021-11-17T20:57:14.120002",
   "version": "2.3.3"
  },
  "widgets": {
   "application/vnd.jupyter.widget-state+json": {
    "state": {
     "027b743cd6184ba4b404ee7f8fd4a3a3": {
      "model_module": "@jupyter-widgets/controls",
      "model_module_version": "1.5.0",
      "model_name": "DescriptionStyleModel",
      "state": {
       "_model_module": "@jupyter-widgets/controls",
       "_model_module_version": "1.5.0",
       "_model_name": "DescriptionStyleModel",
       "_view_count": null,
       "_view_module": "@jupyter-widgets/base",
       "_view_module_version": "1.2.0",
       "_view_name": "StyleView",
       "description_width": ""
      }
     },
     "319d906ad114461caa04d3d22579f2a0": {
      "model_module": "@jupyter-widgets/controls",
      "model_module_version": "1.5.0",
      "model_name": "HBoxModel",
      "state": {
       "_dom_classes": [],
       "_model_module": "@jupyter-widgets/controls",
       "_model_module_version": "1.5.0",
       "_model_name": "HBoxModel",
       "_view_count": null,
       "_view_module": "@jupyter-widgets/controls",
       "_view_module_version": "1.5.0",
       "_view_name": "HBoxView",
       "box_style": "",
       "children": [
        "IPY_MODEL_440ca92484904efcb807c43797fd0798",
        "IPY_MODEL_e920b6ab35e0425f9f66772a6ca579f1",
        "IPY_MODEL_4ff5e99301b942ba80aa1a1cb8cadf2d"
       ],
       "layout": "IPY_MODEL_bd537b6d10fd4d85ae3f96b07dd30d84"
      }
     },
     "354c77d4a0fd4cf7bfc9d7560ad88887": {
      "model_module": "@jupyter-widgets/base",
      "model_module_version": "1.2.0",
      "model_name": "LayoutModel",
      "state": {
       "_model_module": "@jupyter-widgets/base",
       "_model_module_version": "1.2.0",
       "_model_name": "LayoutModel",
       "_view_count": null,
       "_view_module": "@jupyter-widgets/base",
       "_view_module_version": "1.2.0",
       "_view_name": "LayoutView",
       "align_content": null,
       "align_items": null,
       "align_self": null,
       "border": null,
       "bottom": null,
       "display": null,
       "flex": null,
       "flex_flow": null,
       "grid_area": null,
       "grid_auto_columns": null,
       "grid_auto_flow": null,
       "grid_auto_rows": null,
       "grid_column": null,
       "grid_gap": null,
       "grid_row": null,
       "grid_template_areas": null,
       "grid_template_columns": null,
       "grid_template_rows": null,
       "height": null,
       "justify_content": null,
       "justify_items": null,
       "left": null,
       "margin": null,
       "max_height": null,
       "max_width": null,
       "min_height": null,
       "min_width": null,
       "object_fit": null,
       "object_position": null,
       "order": null,
       "overflow": null,
       "overflow_x": null,
       "overflow_y": null,
       "padding": null,
       "right": null,
       "top": null,
       "visibility": null,
       "width": null
      }
     },
     "440ca92484904efcb807c43797fd0798": {
      "model_module": "@jupyter-widgets/controls",
      "model_module_version": "1.5.0",
      "model_name": "HTMLModel",
      "state": {
       "_dom_classes": [],
       "_model_module": "@jupyter-widgets/controls",
       "_model_module_version": "1.5.0",
       "_model_name": "HTMLModel",
       "_view_count": null,
       "_view_module": "@jupyter-widgets/controls",
       "_view_module_version": "1.5.0",
       "_view_name": "HTMLView",
       "description": "",
       "description_tooltip": null,
       "layout": "IPY_MODEL_6b6211f3a09a4d01b3f2888851066e09",
       "placeholder": "​",
       "style": "IPY_MODEL_027b743cd6184ba4b404ee7f8fd4a3a3",
       "value": "100%"
      }
     },
     "4ff5e99301b942ba80aa1a1cb8cadf2d": {
      "model_module": "@jupyter-widgets/controls",
      "model_module_version": "1.5.0",
      "model_name": "HTMLModel",
      "state": {
       "_dom_classes": [],
       "_model_module": "@jupyter-widgets/controls",
       "_model_module_version": "1.5.0",
       "_model_name": "HTMLModel",
       "_view_count": null,
       "_view_module": "@jupyter-widgets/controls",
       "_view_module_version": "1.5.0",
       "_view_name": "HTMLView",
       "description": "",
       "description_tooltip": null,
       "layout": "IPY_MODEL_62999886615141269b20100120c59bb2",
       "placeholder": "​",
       "style": "IPY_MODEL_9d660be2784b4bb5a0695c19f1ebfab7",
       "value": " 100/100 [01:46&lt;00:00,  1.09s/it]"
      }
     },
     "62999886615141269b20100120c59bb2": {
      "model_module": "@jupyter-widgets/base",
      "model_module_version": "1.2.0",
      "model_name": "LayoutModel",
      "state": {
       "_model_module": "@jupyter-widgets/base",
       "_model_module_version": "1.2.0",
       "_model_name": "LayoutModel",
       "_view_count": null,
       "_view_module": "@jupyter-widgets/base",
       "_view_module_version": "1.2.0",
       "_view_name": "LayoutView",
       "align_content": null,
       "align_items": null,
       "align_self": null,
       "border": null,
       "bottom": null,
       "display": null,
       "flex": null,
       "flex_flow": null,
       "grid_area": null,
       "grid_auto_columns": null,
       "grid_auto_flow": null,
       "grid_auto_rows": null,
       "grid_column": null,
       "grid_gap": null,
       "grid_row": null,
       "grid_template_areas": null,
       "grid_template_columns": null,
       "grid_template_rows": null,
       "height": null,
       "justify_content": null,
       "justify_items": null,
       "left": null,
       "margin": null,
       "max_height": null,
       "max_width": null,
       "min_height": null,
       "min_width": null,
       "object_fit": null,
       "object_position": null,
       "order": null,
       "overflow": null,
       "overflow_x": null,
       "overflow_y": null,
       "padding": null,
       "right": null,
       "top": null,
       "visibility": null,
       "width": null
      }
     },
     "6b6211f3a09a4d01b3f2888851066e09": {
      "model_module": "@jupyter-widgets/base",
      "model_module_version": "1.2.0",
      "model_name": "LayoutModel",
      "state": {
       "_model_module": "@jupyter-widgets/base",
       "_model_module_version": "1.2.0",
       "_model_name": "LayoutModel",
       "_view_count": null,
       "_view_module": "@jupyter-widgets/base",
       "_view_module_version": "1.2.0",
       "_view_name": "LayoutView",
       "align_content": null,
       "align_items": null,
       "align_self": null,
       "border": null,
       "bottom": null,
       "display": null,
       "flex": null,
       "flex_flow": null,
       "grid_area": null,
       "grid_auto_columns": null,
       "grid_auto_flow": null,
       "grid_auto_rows": null,
       "grid_column": null,
       "grid_gap": null,
       "grid_row": null,
       "grid_template_areas": null,
       "grid_template_columns": null,
       "grid_template_rows": null,
       "height": null,
       "justify_content": null,
       "justify_items": null,
       "left": null,
       "margin": null,
       "max_height": null,
       "max_width": null,
       "min_height": null,
       "min_width": null,
       "object_fit": null,
       "object_position": null,
       "order": null,
       "overflow": null,
       "overflow_x": null,
       "overflow_y": null,
       "padding": null,
       "right": null,
       "top": null,
       "visibility": null,
       "width": null
      }
     },
     "9d660be2784b4bb5a0695c19f1ebfab7": {
      "model_module": "@jupyter-widgets/controls",
      "model_module_version": "1.5.0",
      "model_name": "DescriptionStyleModel",
      "state": {
       "_model_module": "@jupyter-widgets/controls",
       "_model_module_version": "1.5.0",
       "_model_name": "DescriptionStyleModel",
       "_view_count": null,
       "_view_module": "@jupyter-widgets/base",
       "_view_module_version": "1.2.0",
       "_view_name": "StyleView",
       "description_width": ""
      }
     },
     "bd537b6d10fd4d85ae3f96b07dd30d84": {
      "model_module": "@jupyter-widgets/base",
      "model_module_version": "1.2.0",
      "model_name": "LayoutModel",
      "state": {
       "_model_module": "@jupyter-widgets/base",
       "_model_module_version": "1.2.0",
       "_model_name": "LayoutModel",
       "_view_count": null,
       "_view_module": "@jupyter-widgets/base",
       "_view_module_version": "1.2.0",
       "_view_name": "LayoutView",
       "align_content": null,
       "align_items": null,
       "align_self": null,
       "border": null,
       "bottom": null,
       "display": null,
       "flex": null,
       "flex_flow": null,
       "grid_area": null,
       "grid_auto_columns": null,
       "grid_auto_flow": null,
       "grid_auto_rows": null,
       "grid_column": null,
       "grid_gap": null,
       "grid_row": null,
       "grid_template_areas": null,
       "grid_template_columns": null,
       "grid_template_rows": null,
       "height": null,
       "justify_content": null,
       "justify_items": null,
       "left": null,
       "margin": null,
       "max_height": null,
       "max_width": null,
       "min_height": null,
       "min_width": null,
       "object_fit": null,
       "object_position": null,
       "order": null,
       "overflow": null,
       "overflow_x": null,
       "overflow_y": null,
       "padding": null,
       "right": null,
       "top": null,
       "visibility": null,
       "width": null
      }
     },
     "dfc47781ca504900bf00d7628771dc3d": {
      "model_module": "@jupyter-widgets/controls",
      "model_module_version": "1.5.0",
      "model_name": "ProgressStyleModel",
      "state": {
       "_model_module": "@jupyter-widgets/controls",
       "_model_module_version": "1.5.0",
       "_model_name": "ProgressStyleModel",
       "_view_count": null,
       "_view_module": "@jupyter-widgets/base",
       "_view_module_version": "1.2.0",
       "_view_name": "StyleView",
       "bar_color": null,
       "description_width": ""
      }
     },
     "e920b6ab35e0425f9f66772a6ca579f1": {
      "model_module": "@jupyter-widgets/controls",
      "model_module_version": "1.5.0",
      "model_name": "FloatProgressModel",
      "state": {
       "_dom_classes": [],
       "_model_module": "@jupyter-widgets/controls",
       "_model_module_version": "1.5.0",
       "_model_name": "FloatProgressModel",
       "_view_count": null,
       "_view_module": "@jupyter-widgets/controls",
       "_view_module_version": "1.5.0",
       "_view_name": "ProgressView",
       "bar_style": "success",
       "description": "",
       "description_tooltip": null,
       "layout": "IPY_MODEL_354c77d4a0fd4cf7bfc9d7560ad88887",
       "max": 100,
       "min": 0,
       "orientation": "horizontal",
       "style": "IPY_MODEL_dfc47781ca504900bf00d7628771dc3d",
       "value": 100
      }
     }
    },
    "version_major": 2,
    "version_minor": 0
   }
  }
 },
 "nbformat": 4,
 "nbformat_minor": 5
}
